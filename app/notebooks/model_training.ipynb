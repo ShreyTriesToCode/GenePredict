{
 "cells": [
  {
   "cell_type": "code",
   "execution_count": null,
   "metadata": {},
   "outputs": [],
   "source": [
    "from sklearn.model_selection import train_test_split\n",
    "from sklearn.ensemble import RandomForestClassifier\n",
    "from sklearn.metrics import accuracy_score, roc_auc_score, classification_report\n",
    "import pandas as pd\n",
    "import joblib\n",
    "\n",
    "# Load labeled dataset\n",
    "labeled_data = pd.read_csv('../data/labeled_data.csv')\n",
    "\n",
    "# Train-test split\n",
    "X_train, X_test, y_train, y_test = train_test_split(labeled_data.drop('Disease', axis=1), labeled_data['Disease'], test_size=0.2, random_state=42)\n",
    "\n",
    "# Train model for Alzheimer's\n",
    "alzheimers_model = RandomForestClassifier(n_estimators=100, random_state=42)\n",
    "alzheimers_model.fit(X_train, y_train)\n",
    "\n",
    "# Save model\n",
    "joblib.dump(alzheimers_model, '../models/alzheimers_model.pkl')\n",
    "\n",
    "# Train model for Huntington's\n",
    "huntingtons_model = RandomForestClassifier(n_estimators=100, random_state=42)\n",
    "huntingtons_model.fit(X_train, y_train)\n",
    "\n",
    "# Save model\n",
    "joblib.dump(huntingtons_model, '../models/huntingtons_model.pkl')\n",
    "\n",
    "# Evaluate model\n",
    "y_pred = alzheimers_model.predict(X_test)\n",
    "accuracy = accuracy_score(y_test, y_pred)\n",
    "roc_auc = roc_auc_score(y_test, y_pred)\n",
    "print(f'Alzheimer\\'s Model Accuracy: {accuracy}')\n",
    "print(f'Alzheimer\\'s Model AUC: {roc_auc}')\n",
    "print(classification_report(y_test, y_pred))\n"
   ]
  }
 ],
 "metadata": {
  "language_info": {
   "name": "python"
  }
 },
 "nbformat": 4,
 "nbformat_minor": 2
}
