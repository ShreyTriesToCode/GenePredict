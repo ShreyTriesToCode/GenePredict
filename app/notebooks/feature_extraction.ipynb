{
 "cells": [
  {
   "cell_type": "code",
   "execution_count": null,
   "metadata": {},
   "outputs": [],
   "source": [
    "import pandas as pd\n",
    "\n",
    "# Example function to encode risk alleles\n",
    "def encode_risk_alleles(snp_row, risk_allele_column='Risk_Allele'):\n",
    "    if snp_row['Allele1'] == snp_row[risk_allele_column] or snp_row['Allele2'] == snp_row[risk_allele_column]:\n",
    "        return 1  # At least one risk allele present\n",
    "    return 0  # No risk allele present\n",
    "\n",
    "# Load SNP data with genetic markers\n",
    "snp_data = pd.read_csv('../data/user_snp_data.csv')\n",
    "genetic_markers = pd.read_csv('../data/genetic_markers.csv')\n",
    "\n",
    "# Apply encoding to extract features\n",
    "snp_data['Risk'] = snp_data.apply(encode_risk_alleles, axis=1)\n",
    "features = snp_data[['Risk']].fillna(0)\n",
    "features.to_csv('../data/processed_features.csv', index=False)\n"
   ]
  }
 ],
 "metadata": {
  "language_info": {
   "name": "python"
  }
 },
 "nbformat": 4,
 "nbformat_minor": 2
}
