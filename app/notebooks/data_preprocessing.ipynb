{
 "cells": [
  {
   "cell_type": "code",
   "execution_count": null,
   "metadata": {},
   "outputs": [],
   "source": [
    "import pandas as pd\n",
    "from sklearn.preprocessing import StandardScaler\n",
    "\n",
    "# Load SNP data\n",
    "snp_data = pd.read_csv('../data/user_snp_data.csv')\n",
    "\n",
    "# Load known genetic markers associated with Alzheimer's and Huntington's\n",
    "genetic_markers = pd.read_csv('../data/genetic_markers.csv')\n",
    "\n",
    "# Merge the SNP data with the known markers\n",
    "relevant_snps = pd.merge(snp_data, genetic_markers, on='SNP_ID', how='inner')\n",
    "\n",
    "# Standardize SNP data for model input\n",
    "scaler = StandardScaler()\n",
    "snp_features = scaler.fit_transform(relevant_snps[['Allele1', 'Allele2']])\n"
   ]
  }
 ],
 "metadata": {
  "language_info": {
   "name": "python"
  }
 },
 "nbformat": 4,
 "nbformat_minor": 2
}
